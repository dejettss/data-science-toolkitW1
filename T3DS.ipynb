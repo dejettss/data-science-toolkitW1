{
  "nbformat": 4,
  "nbformat_minor": 0,
  "metadata": {
    "colab": {
      "provenance": [],
      "authorship_tag": "ABX9TyO3fGU2gQTKZWCuy0+/Be0K",
      "include_colab_link": true
    },
    "kernelspec": {
      "name": "python3",
      "display_name": "Python 3"
    },
    "language_info": {
      "name": "python"
    }
  },
  "cells": [
    {
      "cell_type": "markdown",
      "metadata": {
        "id": "view-in-github",
        "colab_type": "text"
      },
      "source": [
        "<a href=\"https://colab.research.google.com/github/dejettss/data-science-toolkitW1/blob/main/T3DS.ipynb\" target=\"_parent\"><img src=\"https://colab.research.google.com/assets/colab-badge.svg\" alt=\"Open In Colab\"/></a>"
      ]
    },
    {
      "cell_type": "code",
      "execution_count": 4,
      "metadata": {
        "colab": {
          "base_uri": "https://localhost:8080/"
        },
        "id": "nTpkwSqgGZXG",
        "outputId": "bb408d27-4f06-4305-c126-17f12c4962fd"
      },
      "outputs": [
        {
          "output_type": "stream",
          "name": "stdout",
          "text": [
            "[[1 2]\n",
            " [3 4]]\n"
          ]
        }
      ],
      "source": [
        "import numpy as np\n",
        "\n",
        "a = np.array([[1,2],\n",
        "                     [3,4]])\n",
        "print(a)"
      ]
    },
    {
      "cell_type": "code",
      "source": [
        "ran = np.random.randint(1,10,(3,4))\n",
        "print(ran)"
      ],
      "metadata": {
        "colab": {
          "base_uri": "https://localhost:8080/"
        },
        "id": "rl6ZaM4SHUQQ",
        "outputId": "7a6be22b-3f76-49dd-ba0d-e38a09df4d6b"
      },
      "execution_count": 7,
      "outputs": [
        {
          "output_type": "stream",
          "name": "stdout",
          "text": [
            "[[9 9 1 9]\n",
            " [5 3 8 4]\n",
            " [1 2 8 3]]\n"
          ]
        }
      ]
    },
    {
      "cell_type": "code",
      "source": [
        "uy = np.ones((3,3))\n",
        "\n",
        "zero = np.zeros((3,3))\n",
        "print(zero)\n",
        "print(\" \")\n",
        "print(uy)"
      ],
      "metadata": {
        "colab": {
          "base_uri": "https://localhost:8080/"
        },
        "id": "Dn-11fuxIc5p",
        "outputId": "294250eb-9894-4b5d-ab1c-1ad5555ad315"
      },
      "execution_count": 20,
      "outputs": [
        {
          "output_type": "stream",
          "name": "stdout",
          "text": [
            "[[0. 0. 0.]\n",
            " [0. 0. 0.]\n",
            " [0. 0. 0.]]\n",
            " \n",
            "[[1. 1. 1.]\n",
            " [1. 1. 1.]\n",
            " [1. 1. 1.]]\n"
          ]
        }
      ]
    },
    {
      "cell_type": "code",
      "source": [
        "print(\"original:\\n\")\n",
        "tr = np.random.randint(1,100, (3,6))\n",
        "print(tr)\n",
        "\n",
        "print(\"\\n Transposed version: \\n\")\n",
        "\n",
        "tr1 = tr.T\n",
        "print(tr1)"
      ],
      "metadata": {
        "colab": {
          "base_uri": "https://localhost:8080/"
        },
        "id": "DPGzjbb7K8xv",
        "outputId": "0e8436a9-5263-4a86-cce0-a71bad852605"
      },
      "execution_count": 34,
      "outputs": [
        {
          "output_type": "stream",
          "name": "stdout",
          "text": [
            "original:\n",
            "\n",
            "[[62 85 67 22 50 51]\n",
            " [71 67 50 83 33 47]\n",
            " [21 37 45 31 77 47]]\n",
            "\n",
            " Transposed version: \n",
            "\n",
            "[[62 71 21]\n",
            " [85 67 37]\n",
            " [67 50 45]\n",
            " [22 83 31]\n",
            " [50 33 77]\n",
            " [51 47 47]]\n"
          ]
        }
      ]
    },
    {
      "cell_type": "code",
      "source": [
        "n = 2\n",
        "p = 3\n",
        "m = 4\n",
        "\n",
        "X = np.random.randint(1, 10, (n,p))\n",
        "Y = np.random.randint(1, 10, (p,m))\n",
        "print(X)\n",
        "print(\" \")\n",
        "print(Y)\n",
        "Z = np.dot(X,Y)\n",
        "print(\"\\nThis is the dot of those:\\n\")\n",
        "print(Z)"
      ],
      "metadata": {
        "colab": {
          "base_uri": "https://localhost:8080/"
        },
        "id": "t4mw2uvsMfVi",
        "outputId": "7b197742-524c-4bcb-d871-100a187fd97a"
      },
      "execution_count": 46,
      "outputs": [
        {
          "output_type": "stream",
          "name": "stdout",
          "text": [
            "[[9 1 8]\n",
            " [9 2 1]]\n",
            " \n",
            "[[9 8 3 4]\n",
            " [1 7 6 8]\n",
            " [5 2 5 5]]\n",
            "\n",
            "This is the dot of those:\n",
            "\n",
            "[[122  95  73  84]\n",
            " [ 88  88  44  57]]\n"
          ]
        }
      ]
    }
  ]
}